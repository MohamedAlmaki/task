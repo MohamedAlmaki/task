{
  "nbformat": 4,
  "nbformat_minor": 0,
  "metadata": {
    "colab": {
      "name": "screening_task.ipynb",
      "provenance": [],
      "collapsed_sections": [],
      "authorship_tag": "ABX9TyNYSJ2Urx3ViywD9tgyPpIW"
    },
    "kernelspec": {
      "name": "python3",
      "display_name": "Python 3"
    },
    "accelerator": "GPU"
  },
  "cells": [
    {
      "cell_type": "markdown",
      "metadata": {
        "id": "tC6QKXx7HQO6"
      },
      "source": [
        "### Task details: \n",
        "\n",
        "Implement a circuit that returns |01> and |10> with equal probability (50% for each).\n",
        "Requirements :\n",
        "\n",
        "The circuit should consist only of CNOTs, RXs and RYs. \n",
        "\n",
        "Start from all parameters in parametric gates being equal to 0 or randomly chosen. \n",
        "\n",
        "You should find the right set of parameters using gradient descent (you can use more advanced optimization methods if you like). \n",
        "\n",
        "Simulations must be done with sampling (i.e. a limited number of measurements per iteration) and noise. \n",
        "\n",
        "Compare the results for different numbers of measurements: 1, 10, 100, 1000.\n",
        "\n",
        "### Theory \n",
        "\n",
        "Starting from a |00> state we can prepare a quantum state $\\frac{1}{2}$ |01> + $\\frac{1}{2}$ |10> using a quantum circuit with this configuration: \n",
        "\n",
        "\\- apply a hadmard gate (H) on the first qubit.\n",
        "\n",
        "\\- apply a not gate (X) on the second qubit. \n",
        "\n",
        "\\- apply a CNOT gate using the first qubit as the target qubit and the second qubit as the controlled qubit. \n",
        "\n",
        "But in this task we are allowed to us RXs, RYs and CNOTs gates only. \n",
        "\n",
        "We can build a hadmard gate using RY gate by setting the theta parameter to pi/2. Also, we can build a not gate using RX gate by setting the theta parameter to pi. \n",
        "\n",
        "In this task, we assume we don't know these values. so we will build a varitional circuit and optimize it to get the optimal values. \n"
      ]
    },
    {
      "cell_type": "markdown",
      "metadata": {
        "id": "lxeYea6hO6hZ"
      },
      "source": [
        "**Dependecies:**\n",
        "\n",
        "numpy=1.18.5\n",
        "\n",
        "qiskit=0.21.0\n",
        "\n",
        "matplotlib=3.2.2"
      ]
    },
    {
      "cell_type": "code",
      "metadata": {
        "id": "gUNGCvVfKxO0"
      },
      "source": [
        "import numpy as np\n",
        "from qiskit import *\n",
        "import matplotlib.pyplot as plt\n",
        "import qiskit.providers.aer.noise as noise\n",
        "from qiskit.aqua.components.optimizers import COBYLA\n",
        "from qiskit.visualization import plot_histogram\n",
        "from math import pi\n",
        "%matplotlib inline"
      ],
      "execution_count": 1,
      "outputs": []
    },
    {
      "cell_type": "markdown",
      "metadata": {
        "id": "q1iv-X9dPynw"
      },
      "source": [
        "In this function we will implement our quantum circuit. "
      ]
    },
    {
      "cell_type": "code",
      "metadata": {
        "id": "l3ZfErnvK7Jm"
      },
      "source": [
        "def get_quantum_circuit(params): \n",
        "  quantum_register = QuantumRegister(2, name=\"quantum_register\")\n",
        "  classical_register = ClassicalRegister(2, name='classical_register')\n",
        "  quantum_circuit = QuantumCircuit(quantum_register, classical_register)\n",
        "\n",
        "  quantum_circuit.ry(params[0], quantum_register[0])\n",
        "  quantum_circuit.rx(params[1], quantum_register[1])\n",
        "  quantum_circuit.cx(quantum_register[0], quantum_register[1])\n",
        "\n",
        "  quantum_circuit.measure(quantum_register, classical_register)\n",
        "\n",
        "  return quantum_circuit"
      ],
      "execution_count": 2,
      "outputs": []
    },
    {
      "cell_type": "markdown",
      "metadata": {
        "id": "2CzQZ9u4QCb0"
      },
      "source": [
        "**Cost function**: \n",
        "\n",
        "here we define our cost function as the manhantan distance between our measured distribution from the circuit and our target distribution."
      ]
    },
    {
      "cell_type": "code",
      "metadata": {
        "id": "3m04oI7zNoYc"
      },
      "source": [
        "def get_measured_distribution(counts, num_shots): \n",
        "  measured_distribution = []\n",
        "  for key in ['00', '10', '01', '11']: \n",
        "    if key in counts.keys(): \n",
        "      measured_distribution.append(counts[key]/num_shots)\n",
        "    else: \n",
        "      measured_distribution.append(0)\n",
        "\n",
        "  return np.array(measured_distribution)\n",
        "\n",
        "def get_cost(counts, num_shots, target_distribution):\n",
        "  measured_distribution = get_measured_distribution(counts, num_shots)\n",
        "  cost = np.sum(np.abs(measured_distribution - target_distribution))\n",
        "  return cost \n"
      ],
      "execution_count": 3,
      "outputs": []
    },
    {
      "cell_type": "markdown",
      "metadata": {
        "id": "6uJTHW0hQyqt"
      },
      "source": [
        "we define a noise model to add it to the simulator"
      ]
    },
    {
      "cell_type": "code",
      "metadata": {
        "id": "3758Kvo3a0l8"
      },
      "source": [
        "def get_noise(): \n",
        "  prob_1 = 0.001 \n",
        "  prob_2 = 0.01   \n",
        "\n",
        "  error_1 = noise.depolarizing_error(prob_1, 1)\n",
        "  error_2 = noise.depolarizing_error(prob_2, 2)\n",
        "\n",
        "  noise_model = noise.NoiseModel()\n",
        "  noise_model.add_all_qubit_quantum_error(error_1, ['u1', 'u2', 'u3'])\n",
        "  noise_model.add_all_qubit_quantum_error(error_2, ['cx'])\n",
        "\n",
        "  basis_gates = noise_model.basis_gates\n",
        "\n",
        "  return noise_model, basis_gates"
      ],
      "execution_count": 4,
      "outputs": []
    },
    {
      "cell_type": "markdown",
      "metadata": {
        "id": "5qDVOLOGRMNa"
      },
      "source": [
        "**Optimization objective function** "
      ]
    },
    {
      "cell_type": "code",
      "metadata": {
        "id": "wrZFIBgDShGW"
      },
      "source": [
        "num_shots = 1\n",
        "target_distribution = np.array([0, 0.5, 0.5, 0])\n",
        "\n",
        "def objective_function(params): \n",
        "    quantum_circuit = get_quantum_circuit(params)\n",
        "    simulator_backend = Aer.get_backend(\"qasm_simulator\")\n",
        "    noise_model, basis_gates = get_noise() \n",
        "    result = execute(quantum_circuit, simulator_backend, shots=num_shots, basis_gates=basis_gates, noise_model=noise_model).result()\n",
        "    cost = get_cost(result.get_counts(), num_shots, target_distribution)\n",
        "    return cost"
      ],
      "execution_count": 5,
      "outputs": []
    },
    {
      "cell_type": "markdown",
      "metadata": {
        "id": "jvFUDUTRg-Sx"
      },
      "source": [
        "In this function we will optimize our circuit paramerters using cobyla optimizer. Then, we will try differents number of measurements."
      ]
    },
    {
      "cell_type": "code",
      "metadata": {
        "id": "z-kzYGk1TYyv"
      },
      "source": [
        "def optimize_quantum_circuit():\n",
        "  optimizer = COBYLA(maxiter=num_shots, tol=0.0001)\n",
        "\n",
        "  params = [0, 0]\n",
        "  params_bounds = [(0, 2*pi), (0, 2*pi)]\n",
        "  results = optimizer.optimize(num_vars=2, objective_function=objective_function, initial_point=params, variable_bounds=params_bounds)\n",
        "\n",
        "  quantum_circuit = get_quantum_circuit(results[0])\n",
        "  simulator_backend = Aer.get_backend(\"qasm_simulator\")\n",
        "  counts = execute(quantum_circuit, simulator_backend, shots=num_shots).result().get_counts()\n",
        "  output_distribution = get_measured_distribution(counts, num_shots)\n",
        "\n",
        "  print(\"Target Distribution:\", target_distribution)\n",
        "  print(\"Last Measured Distribution:\", output_distribution)\n",
        "  print(\"Output Error (Manhattan Distance):\", results[1])\n",
        "  print(\"Parameters Found:\", results[0])\n",
        "  print(\"Number of Measurement:\", num_shots)\n",
        "\n",
        "  return counts, results[1]"
      ],
      "execution_count": 6,
      "outputs": []
    },
    {
      "cell_type": "markdown",
      "metadata": {
        "id": "GmUGfu1xde3E"
      },
      "source": [
        "1 measurements"
      ]
    },
    {
      "cell_type": "code",
      "metadata": {
        "id": "0Uz95SBQUMkA",
        "outputId": "2f72ae03-e1ff-4b04-f091-0e07fc57639a",
        "colab": {
          "base_uri": "https://localhost:8080/",
          "height": 104
        }
      },
      "source": [
        "losses = []\n",
        "num_shots = 1\n",
        "counts, loss = optimize_quantum_circuit() \n",
        "losses.append(loss)"
      ],
      "execution_count": 7,
      "outputs": [
        {
          "output_type": "stream",
          "text": [
            "Target Distribution: [0.  0.5 0.5 0. ]\n",
            "Last Measured Distribution: [1. 0. 0. 0.]\n",
            "Output Error (Manhattan Distance): 2.0\n",
            "Parameters Found: [0. 0.]\n",
            "Number of Measurement: 1\n"
          ],
          "name": "stdout"
        }
      ]
    },
    {
      "cell_type": "code",
      "metadata": {
        "id": "5mPutxSUo7Br",
        "outputId": "c138c0e6-71a1-4552-a8f8-1df33a64f774",
        "colab": {
          "base_uri": "https://localhost:8080/",
          "height": 347
        }
      },
      "source": [
        "plot_histogram(counts, title=\"1 measurement\")"
      ],
      "execution_count": 8,
      "outputs": [
        {
          "output_type": "execute_result",
          "data": {
            "image/png": "[encoded data removed]",
            "text/plain": [
              "<Figure size 504x360 with 1 Axes>"
            ]
          },
          "metadata": {
            "tags": []
          },
          "execution_count": 8
        }
      ]
    },
    {
      "cell_type": "markdown",
      "metadata": {
        "id": "HBzG8XiRd4mN"
      },
      "source": [
        "10 measurements"
      ]
    },
    {
      "cell_type": "code",
      "metadata": {
        "id": "HlsyWNLZcTIN",
        "outputId": "1e76cdb2-05e5-4aa3-87d8-59fbb4eb877c",
        "colab": {
          "base_uri": "https://localhost:8080/",
          "height": 104
        }
      },
      "source": [
        "num_shots = 10 \n",
        "counts, loss = optimize_quantum_circuit() \n",
        "losses.append(loss)"
      ],
      "execution_count": 9,
      "outputs": [
        {
          "output_type": "stream",
          "text": [
            "Target Distribution: [0.  0.5 0.5 0. ]\n",
            "Last Measured Distribution: [0.8 0.2 0.  0. ]\n",
            "Output Error (Manhattan Distance): 1.2\n",
            "Parameters Found: [0. 1.]\n",
            "Number of Measurement: 10\n"
          ],
          "name": "stdout"
        }
      ]
    },
    {
      "cell_type": "code",
      "metadata": {
        "id": "DwogDjnzoWlZ",
        "outputId": "64203349-a1e0-4461-85d2-c70220872bab",
        "colab": {
          "base_uri": "https://localhost:8080/",
          "height": 347
        }
      },
      "source": [
        "plot_histogram(counts, title=\"10 measurement\")"
      ],
      "execution_count": 10,
      "outputs": [
        {
          "output_type": "execute_result",
          "data": {
            "image/png": "[encoded data removed]",
            "text/plain": [
              "<Figure size 504x360 with 1 Axes>"
            ]
          },
          "metadata": {
            "tags": []
          },
          "execution_count": 10
        }
      ]
    },
    {
      "cell_type": "markdown",
      "metadata": {
        "id": "t351ghoneMA1"
      },
      "source": [
        "100 measurements"
      ]
    },
    {
      "cell_type": "code",
      "metadata": {
        "id": "rbXyyVb4eIbZ",
        "outputId": "f1554d03-c40d-4b82-f44c-d264c0df054c",
        "colab": {
          "base_uri": "https://localhost:8080/",
          "height": 104
        }
      },
      "source": [
        "num_shots = 100\n",
        "counts, loss = optimize_quantum_circuit() \n",
        "losses.append(loss)"
      ],
      "execution_count": 11,
      "outputs": [
        {
          "output_type": "stream",
          "text": [
            "Target Distribution: [0.  0.5 0.5 0. ]\n",
            "Last Measured Distribution: [0.   0.43 0.57 0.  ]\n",
            "Output Error (Manhattan Distance): 0.06000000000000004\n",
            "Parameters Found: [-1.55056814  3.2686218 ]\n",
            "Number of Measurement: 100\n"
          ],
          "name": "stdout"
        }
      ]
    },
    {
      "cell_type": "code",
      "metadata": {
        "id": "n5V5L0bEojyz",
        "outputId": "07d8ec54-b0cf-4069-91ce-5d666b9fb41b",
        "colab": {
          "base_uri": "https://localhost:8080/",
          "height": 347
        }
      },
      "source": [
        "plot_histogram(counts, title=\"100 measurement\")"
      ],
      "execution_count": 12,
      "outputs": [
        {
          "output_type": "execute_result",
          "data": {
            "image/png": "[encoded data removed]",
            "text/plain": [
              "<Figure size 504x360 with 1 Axes>"
            ]
          },
          "metadata": {
            "tags": []
          },
          "execution_count": 12
        }
      ]
    },
    {
      "cell_type": "markdown",
      "metadata": {
        "id": "bTZzCL7Ke4Yz"
      },
      "source": [
        "1000 measurements"
      ]
    },
    {
      "cell_type": "code",
      "metadata": {
        "id": "R-ckF7fBeP57",
        "outputId": "f1997183-7b83-4fdb-84d5-fab1389ab406",
        "colab": {
          "base_uri": "https://localhost:8080/",
          "height": 104
        }
      },
      "source": [
        "num_shots = 1000\n",
        "counts, loss = optimize_quantum_circuit() \n",
        "losses.append(loss)"
      ],
      "execution_count": 13,
      "outputs": [
        {
          "output_type": "stream",
          "text": [
            "Target Distribution: [0.  0.5 0.5 0. ]\n",
            "Last Measured Distribution: [0.005 0.484 0.501 0.01 ]\n",
            "Output Error (Manhattan Distance): 0.09200000000000003\n",
            "Parameters Found: [1.59396315 3.33321888]\n",
            "Number of Measurement: 1000\n"
          ],
          "name": "stdout"
        }
      ]
    },
    {
      "cell_type": "code",
      "metadata": {
        "id": "QYBhlZEHoov3",
        "outputId": "e186962e-8b6d-45ba-f266-ca65f97e308c",
        "colab": {
          "base_uri": "https://localhost:8080/",
          "height": 347
        }
      },
      "source": [
        "plot_histogram(counts, title=\"1000 measurement\")"
      ],
      "execution_count": 14,
      "outputs": [
        {
          "output_type": "execute_result",
          "data": {
            "image/png": "[encoded data removed]",
            "text/plain": [
              "<Figure size 504x360 with 1 Axes>"
            ]
          },
          "metadata": {
            "tags": []
          },
          "execution_count": 14
        }
      ]
    },
    {
      "cell_type": "markdown",
      "metadata": {
        "id": "MYPMKCrmorzc"
      },
      "source": [
        "loss plot"
      ]
    },
    {
      "cell_type": "code",
      "metadata": {
        "id": "SJ6rsLi0oD6O",
        "outputId": "56616aae-6c2d-4090-aff0-e04c505a36b4",
        "colab": {
          "base_uri": "https://localhost:8080/",
          "height": 283
        }
      },
      "source": [
        "plt.bar([\"1\", \"10\", \"100\", \"1000\"], losses)"
      ],
      "execution_count": 15,
      "outputs": [
        {
          "output_type": "execute_result",
          "data": {
            "text/plain": [
              "<BarContainer object of 4 artists>"
            ]
          },
          "metadata": {
            "tags": []
          },
          "execution_count": 15
        },
        {
          "output_type": "display_data",
          "data": {
            "image/png": "[encoded data removed]",
            "text/plain": [
              "<Figure size 432x288 with 1 Axes>"
            ]
          },
          "metadata": {
            "tags": [],
            "needs_background": "light"
          }
        }
      ]
    },
    {
      "cell_type": "markdown",
      "metadata": {
        "id": "CbSacx5VunZN"
      },
      "source": [
        "**Bouns:**\n",
        "\n",
        "We can use quantum phase estimation algorithm to deferentate between |0> + $e^{i\\phi}$ |1> and |0> + |1>"
      ]
    }
  ]
}